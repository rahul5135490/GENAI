{
 "cells": [
  {
   "cell_type": "code",
   "execution_count": 1,
   "id": "12824ff5-86a7-49b8-8840-38b588d02857",
   "metadata": {},
   "outputs": [
    {
     "name": "stderr",
     "output_type": "stream",
     "text": [
      "No model was supplied, defaulted to distilbert/distilbert-base-uncased-finetuned-sst-2-english and revision af0f99b (https://huggingface.co/distilbert/distilbert-base-uncased-finetuned-sst-2-english).\n",
      "Using a pipeline without specifying a model name and revision in production is not recommended.\n"
     ]
    },
    {
     "name": "stdout",
     "output_type": "stream",
     "text": [
      "--- Using a Pre-trained Transformer for Sentiment Analysis ---\n"
     ]
    },
    {
     "name": "stderr",
     "output_type": "stream",
     "text": [
      "C:\\Users\\Admin\\anaconda3\\Lib\\site-packages\\transformers\\tokenization_utils_base.py:1601: FutureWarning: `clean_up_tokenization_spaces` was not set. It will be set to `True` by default. This behavior will be depracted in transformers v4.45, and will be then set to `False` by default. For more details check this issue: https://github.com/huggingface/transformers/issues/31884\n",
      "  warnings.warn(\n"
     ]
    },
    {
     "name": "stdout",
     "output_type": "stream",
     "text": [
      "Sentiment analysis pipeline loaded successfully.\n",
      "\n",
      "Analyzing sentiments for sample texts:\n",
      "\n",
      "Text: 'This movie was absolutely amazing and I loved every minute of it!'\n",
      "Sentiment: POSITIVE (Score: 0.9999)\n",
      "\n",
      "Text: 'I hated the food, the service was terrible, and the atmosphere was awful.'\n",
      "Sentiment: NEGATIVE (Score: 0.9998)\n",
      "\n",
      "Text: 'The weather today is neither good nor bad, just cloudy.'\n",
      "Sentiment: NEGATIVE (Score: 0.9967)\n",
      "\n",
      "Text: 'What a truly exceptional experience! I would highly recommend it to anyone.'\n",
      "Sentiment: POSITIVE (Score: 0.9999)\n",
      "\n",
      "Text: 'It's okay, nothing special. Could be better, could be worse.'\n",
      "Sentiment: POSITIVE (Score: 0.7675)\n",
      "\n",
      "--- End of Transformer Example ---\n"
     ]
    }
   ],
   "source": [
    "# Install transformers library if you haven't already\n",
    "# !pip install transformers\n",
    "\n",
    "from transformers import pipeline\n",
    "\n",
    "print(\"--- Using a Pre-trained Transformer for Sentiment Analysis ---\")\n",
    "\n",
    "# 1. Create a sentiment analysis pipeline\n",
    "# This will automatically download a suitable pre-trained model (e.g., distilbert-base-uncased-finetuned-sst-2-english)\n",
    "# and its corresponding tokenizer.\n",
    "try:\n",
    "    sentiment_pipeline = pipeline(\"sentiment-analysis\")\n",
    "    print(\"Sentiment analysis pipeline loaded successfully.\")\n",
    "except Exception as e:\n",
    "    print(f\"Error loading pipeline. Please ensure 'transformers' is installed and you have an internet connection: {e}\")\n",
    "    # You might also need to install specific models if default fails, e.g.:\n",
    "    # !pip install torch # Or tensorflow\n",
    "    # !pip install sentencepiece # For some tokenizers\n",
    "    exit() # Exit if pipeline fails to load to prevent further errors\n",
    "\n",
    "\n",
    "# 2. Test with some sample sentences\n",
    "texts = [\n",
    "    \"This movie was absolutely amazing and I loved every minute of it!\",\n",
    "    \"I hated the food, the service was terrible, and the atmosphere was awful.\",\n",
    "    \"The weather today is neither good nor bad, just cloudy.\",\n",
    "    \"What a truly exceptional experience! I would highly recommend it to anyone.\",\n",
    "    \"It's okay, nothing special. Could be better, could be worse.\"\n",
    "]\n",
    "\n",
    "print(\"\\nAnalyzing sentiments for sample texts:\")\n",
    "for text in texts:\n",
    "    result = sentiment_pipeline(text)[0] # pipeline returns a list of dictionaries, we take the first item\n",
    "    print(f\"\\nText: '{text}'\")\n",
    "    print(f\"Sentiment: {result['label']} (Score: {result['score']:.4f})\")\n",
    "\n",
    "print(\"\\n--- End of Transformer Example ---\")"
   ]
  },
  {
   "cell_type": "code",
   "execution_count": null,
   "id": "b1790d5e-2ea6-4232-ae06-ab499fc1ff54",
   "metadata": {},
   "outputs": [],
   "source": []
  }
 ],
 "metadata": {
  "kernelspec": {
   "display_name": "Python 3 (ipykernel)",
   "language": "python",
   "name": "python3"
  },
  "language_info": {
   "codemirror_mode": {
    "name": "ipython",
    "version": 3
   },
   "file_extension": ".py",
   "mimetype": "text/x-python",
   "name": "python",
   "nbconvert_exporter": "python",
   "pygments_lexer": "ipython3",
   "version": "3.12.3"
  }
 },
 "nbformat": 4,
 "nbformat_minor": 5
}
