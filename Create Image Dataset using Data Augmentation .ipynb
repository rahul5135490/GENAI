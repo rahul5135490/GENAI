{
 "cells": [
  {
   "cell_type": "code",
   "execution_count": 3,
   "id": "9f7bdee4",
   "metadata": {},
   "outputs": [],
   "source": [
    "# Data Augmentation using Python and Keras\n",
    "from tensorflow.keras.preprocessing.image import ImageDataGenerator\n",
    "from tensorflow.keras.utils import array_to_img, img_to_array, load_img\n",
    "datagen = ImageDataGenerator(\n",
    "            rotation_range =40,\n",
    "            width_shift_range=0.2,\n",
    "            height_shift_range=0.2,\n",
    "            shear_range=0.2,\n",
    "            zoom_range=0.2,\n",
    "            horizontal_flip=True,\n",
    "            fill_mode=\"nearest\")"
   ]
  },
  {
   "cell_type": "code",
   "execution_count": 5,
   "id": "2327df80",
   "metadata": {},
   "outputs": [],
   "source": [
    "img = load_img('cat.1.jpg')\n",
    "x = img_to_array(img) # this is a Numpy array with shape(3,150,150) --> 3 channels of RGB and each channel having image dimension as 150x150\n",
    "x = x.reshape((1,)+x.shape)  # this is a Numpy array with shape(1,3,150,150)"
   ]
  },
  {
   "cell_type": "code",
   "execution_count": 9,
   "id": "d3bf6793",
   "metadata": {},
   "outputs": [],
   "source": [
    "# the .flow() command below generates batches of randomly transformed images\n",
    "# and saves the results to the 'preview/' directory\n",
    "\n",
    "i=0\n",
    "for batch in datagen.flow(x, batch_size=1,\n",
    "                         save_to_dir='sample', save_prefix='cat', save_format='jpeg'):\n",
    "    i+=1\n",
    "    if i>20:\n",
    "        break # otherwise the generator would run indefinitely"
   ]
  },
  {
   "cell_type": "code",
   "execution_count": null,
   "id": "34f4dcd8",
   "metadata": {},
   "outputs": [],
   "source": []
  },
  {
   "cell_type": "code",
   "execution_count": null,
   "id": "3a37cf3f",
   "metadata": {},
   "outputs": [],
   "source": []
  },
  {
   "cell_type": "code",
   "execution_count": null,
   "id": "d9b65b20-5f68-4a9e-a252-5cb050323f78",
   "metadata": {},
   "outputs": [],
   "source": []
  },
  {
   "cell_type": "code",
   "execution_count": null,
   "id": "1c0873ab",
   "metadata": {},
   "outputs": [],
   "source": []
  }
 ],
 "metadata": {
  "kernelspec": {
   "display_name": "Python 3 (ipykernel)",
   "language": "python",
   "name": "python3"
  },
  "language_info": {
   "codemirror_mode": {
    "name": "ipython",
    "version": 3
   },
   "file_extension": ".py",
   "mimetype": "text/x-python",
   "name": "python",
   "nbconvert_exporter": "python",
   "pygments_lexer": "ipython3",
   "version": "3.12.4"
  }
 },
 "nbformat": 4,
 "nbformat_minor": 5
}
